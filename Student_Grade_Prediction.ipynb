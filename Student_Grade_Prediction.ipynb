{
  "cells": [
    {
      "cell_type": "markdown",
      "metadata": {
        "id": "view-in-github",
        "colab_type": "text"
      },
      "source": [
        "<a href=\"https://colab.research.google.com/github/Abhinab619/Abhi/blob/main/Student_Grade_Prediction.ipynb\" target=\"_parent\"><img src=\"https://colab.research.google.com/assets/colab-badge.svg\" alt=\"Open In Colab\"/></a>"
      ]
    },
    {
      "cell_type": "code",
      "execution_count": null,
      "metadata": {
        "colab": {
          "base_uri": "https://localhost:8080/"
        },
        "id": "yfdH7tjtxxmD",
        "outputId": "0eced97d-76a6-4d11-e8a9-c48bf4c15743"
      },
      "outputs": [
        {
          "output_type": "stream",
          "name": "stdout",
          "text": [
            "Drive already mounted at /content/gdrive; to attempt to forcibly remount, call drive.mount(\"/content/gdrive\", force_remount=True).\n"
          ]
        }
      ],
      "source": [
        "from google.colab import drive\n",
        "drive.mount('/content/gdrive')"
      ]
    },
    {
      "cell_type": "code",
      "execution_count": null,
      "metadata": {
        "id": "tZvxpUVH-AQ2"
      },
      "outputs": [],
      "source": [
        "import numpy as np\n",
        "import pandas as pd\n",
        "from sklearn.linear_model import LinearRegression\n",
        "from sklearn.utils import shuffle\n",
        "import seaborn as sns\n",
        "import matplotlib.pyplot as plt\n",
        "\n",
        "mat_data = pd.read_csv('/content/gdrive/MyDrive/Colab Notebooks/PROJECT/'+\"student-mat.csv\")\n",
        "\n",
        "mat_data"
      ]
    },
    {
      "cell_type": "markdown",
      "metadata": {
        "id": "GRc-9--OJVFV"
      },
      "source": [
        "# Data Exploration"
      ]
    },
    {
      "cell_type": "code",
      "execution_count": null,
      "metadata": {
        "colab": {
          "base_uri": "https://localhost:8080/"
        },
        "id": "u2E8m8k1Cd0t",
        "outputId": "d729db76-3003-439e-a8e7-5c36f6151bb9"
      },
      "outputs": [
        {
          "output_type": "stream",
          "name": "stdout",
          "text": [
            "Total number of students:  395\n"
          ]
        }
      ],
      "source": [
        "print('Total number of students: ',len(mat_data))"
      ]
    },
    {
      "cell_type": "code",
      "execution_count": null,
      "metadata": {
        "id": "H1-Ky9IqC4ZR"
      },
      "outputs": [],
      "source": [
        "print(\"Parameter are: \",mat_data.columns)"
      ]
    },
    {
      "cell_type": "code",
      "execution_count": null,
      "metadata": {
        "id": "-cWGOKytDXYK"
      },
      "outputs": [],
      "source": [
        "mat_data.info()"
      ]
    },
    {
      "cell_type": "code",
      "execution_count": null,
      "metadata": {
        "id": "TH6lVq3XzPt7"
      },
      "outputs": [],
      "source": [
        "mat_data.describe()"
      ]
    },
    {
      "cell_type": "code",
      "execution_count": null,
      "metadata": {
        "id": "wwH38RZtlU8C"
      },
      "outputs": [],
      "source": [
        "mat_data['G3'].describe()"
      ]
    },
    {
      "cell_type": "code",
      "execution_count": null,
      "metadata": {
        "id": "xvOLyN_uDlW8"
      },
      "outputs": [],
      "source": [
        "sns.set(rc={'figure.figsize':(8,6)})\n",
        "sns.countplot(x=\"school\", hue =\"sex\", data=mat_data)"
      ]
    },
    {
      "cell_type": "code",
      "execution_count": null,
      "metadata": {
        "id": "g9lnzcROJQSi"
      },
      "outputs": [],
      "source": [
        "sns.countplot(mat_data.age)"
      ]
    },
    {
      "cell_type": "code",
      "execution_count": null,
      "metadata": {
        "id": "Hdp-bjk1Ju9p"
      },
      "outputs": [],
      "source": [
        "sns.countplot(x=\"school\", hue =\"studytime\", data=mat_data)"
      ]
    },
    {
      "cell_type": "code",
      "execution_count": null,
      "metadata": {
        "id": "l4QLhxKuKc4a"
      },
      "outputs": [],
      "source": [
        "sns.countplot(x=\"age\", hue=\"failures\", data=mat_data)"
      ]
    },
    {
      "cell_type": "code",
      "execution_count": null,
      "metadata": {
        "id": "hOML36dPtG9e"
      },
      "outputs": [],
      "source": [
        "sns.distplot(mat_data.absences)"
      ]
    },
    {
      "cell_type": "code",
      "execution_count": null,
      "metadata": {
        "id": "yNkMd6B4nEr_"
      },
      "outputs": [],
      "source": [
        "sns.set_style('whitegrid')\n",
        "sns.countplot(x='sex',data=mat_data,palette='plasma')"
      ]
    },
    {
      "cell_type": "code",
      "execution_count": null,
      "metadata": {
        "id": "QgxHlAeInOjE"
      },
      "outputs": [],
      "source": [
        "b = sns.kdeplot(mat_data['age'])\n",
        "b.axes.set_title('Ages of students')\n",
        "b.set_xlabel('Age')\n",
        "b.set_ylabel('Count')\n",
        "plt.show()"
      ]
    },
    {
      "cell_type": "code",
      "execution_count": null,
      "metadata": {
        "id": "K1rOy9eh4Hfi"
      },
      "outputs": [],
      "source": [
        "sns.lmplot(x =\"failures\", y =\"G3\", data = mat_data, order = 2, ci = None)"
      ]
    },
    {
      "cell_type": "code",
      "execution_count": null,
      "metadata": {
        "id": "m5xB4EyJ-y1u"
      },
      "outputs": [],
      "source": [
        "mat_data['G3'].describe()"
      ]
    },
    {
      "cell_type": "code",
      "execution_count": null,
      "metadata": {
        "id": "DfAdVikOLla6"
      },
      "outputs": [],
      "source": [
        "GP = mat_data[mat_data.school == 'GP']\n",
        "MS = mat_data[mat_data.school == 'MS']\n",
        "\n",
        "sns.distplot(GP.G3, hist=False, label=\"GP\")\n",
        "sns.distplot(MS.G3, hist=False, label=\"MS\")\n",
        "plt.show()"
      ]
    },
    {
      "cell_type": "markdown",
      "metadata": {
        "id": "QyXrXNE2Jp3z"
      },
      "source": [
        "Encoding categorical variables"
      ]
    },
    {
      "cell_type": "code",
      "execution_count": null,
      "metadata": {
        "id": "mBbFSmQeISfX"
      },
      "outputs": [],
      "source": [
        "from sklearn.preprocessing import LabelEncoder\n",
        "le=LabelEncoder()\n",
        "mat_data.iloc[:,0]=le.fit_transform(mat_data.iloc[:,0])\n",
        "mat_data.iloc[:,1]=le.fit_transform(mat_data.iloc[:,1])\n",
        "mat_data.iloc[:,3]=le.fit_transform(mat_data.iloc[:,3])\n",
        "mat_data.iloc[:,4]=le.fit_transform(mat_data.iloc[:,4])\n",
        "mat_data.iloc[:,5]=le.fit_transform(mat_data.iloc[:,5])\n",
        "mat_data.iloc[:,7]=le.fit_transform(mat_data.iloc[:,7])\n",
        "mat_data.iloc[:,8]=le.fit_transform(mat_data.iloc[:,8])\n",
        "mat_data.iloc[:,9]=le.fit_transform(mat_data.iloc[:,9])\n",
        "mat_data.iloc[:,10]=le.fit_transform(mat_data.iloc[:,10])\n",
        "mat_data.iloc[:,11]=le.fit_transform(mat_data.iloc[:,11])\n",
        "mat_data.iloc[:,5]=le.fit_transform(mat_data.iloc[:,5])\n",
        "mat_data.iloc[:,13]=le.fit_transform(mat_data.iloc[:,13])\n",
        "mat_data.iloc[:,14]=le.fit_transform(mat_data.iloc[:,14])\n",
        "mat_data.iloc[:,15]=le.fit_transform(mat_data.iloc[:,15])\n",
        "mat_data.iloc[:,16]=le.fit_transform(mat_data.iloc[:,16])\n",
        "mat_data.iloc[:,17]=le.fit_transform(mat_data.iloc[:,17])\n",
        "mat_data.iloc[:,18]=le.fit_transform(mat_data.iloc[:,18])\n",
        "mat_data.iloc[:,19]=le.fit_transform(mat_data.iloc[:,19])\n",
        "mat_data.iloc[:,20]=le.fit_transform(mat_data.iloc[:,20])\n",
        "mat_data.iloc[:,21]=le.fit_transform(mat_data.iloc[:,21])\n",
        "mat_data.iloc[:,22]=le.fit_transform(mat_data.iloc[:,22])"
      ]
    },
    {
      "cell_type": "code",
      "execution_count": null,
      "metadata": {
        "id": "B6j2u0bhIwVm"
      },
      "outputs": [],
      "source": [
        "mat_data.head()"
      ]
    },
    {
      "cell_type": "markdown",
      "metadata": {
        "id": "-HDkr3uhxrDK"
      },
      "source": [
        "# Finding Correlation between Attributes"
      ]
    },
    {
      "cell_type": "code",
      "execution_count": null,
      "metadata": {
        "id": "0A5ir-a-J89v"
      },
      "outputs": [],
      "source": [
        "mat_data.corr()['G3'].sort_values()"
      ]
    },
    {
      "cell_type": "code",
      "execution_count": null,
      "metadata": {
        "id": "jQZH0Dkqtkas"
      },
      "outputs": [],
      "source": [
        "mat_data = mat_data.drop(['school', 'G1', 'G2'], axis='columns')"
      ]
    },
    {
      "cell_type": "code",
      "execution_count": null,
      "metadata": {
        "id": "ad3Lo6DLBtdb"
      },
      "outputs": [],
      "source": [
        "most_correlated = mat_data.corr().abs()['G3'].sort_values(ascending=False)\n",
        "most_correlated = most_correlated[:9]\n",
        "most_correlated"
      ]
    },
    {
      "cell_type": "code",
      "execution_count": null,
      "metadata": {
        "id": "ybRaT8ZMzfvO"
      },
      "outputs": [],
      "source": [
        "mat_data = mat_data.loc[:, most_correlated.index]\n",
        "mat_data.head()"
      ]
    },
    {
      "cell_type": "markdown",
      "metadata": {
        "id": "OpZjgata0Ggr"
      },
      "source": [
        "# Grade Prediction"
      ]
    },
    {
      "cell_type": "code",
      "execution_count": null,
      "metadata": {
        "id": "jc52bUzXNDQn"
      },
      "outputs": [],
      "source": [
        "from sklearn.model_selection import train_test_split\n",
        "X_train, X_test, y_train, y_test = train_test_split(mat_data, mat_data['G3'], test_size = 0.25, random_state=42)"
      ]
    },
    {
      "cell_type": "code",
      "execution_count": null,
      "metadata": {
        "id": "lRnfCwsPFW4h"
      },
      "outputs": [],
      "source": [
        "X_train.head()"
      ]
    },
    {
      "cell_type": "code",
      "execution_count": null,
      "metadata": {
        "id": "uiqcaC6ANhNC"
      },
      "outputs": [],
      "source": [
        "X_train = X_train.drop('G3', axis='columns')\n",
        "X_test = X_test.drop('G3', axis='columns')\n",
        "lr = LinearRegression()\n",
        "model = lr.fit(X_train, y_train)\n",
        "print(lr.score(X_test, y_test))"
      ]
    },
    {
      "cell_type": "code",
      "execution_count": null,
      "metadata": {
        "id": "XMNq_K8RF0a7"
      },
      "outputs": [],
      "source": [
        "predictions = lr.predict(X_test)\n",
        "print(\"Predicted Grade: \",predictions,sep = '\\n')"
      ]
    },
    {
      "cell_type": "code",
      "execution_count": null,
      "metadata": {
        "id": "eCnT0rspOugS"
      },
      "outputs": [],
      "source": [
        "plt.plot(y_test, predictions, 'o')\n",
        "m, b = np.polyfit(y_test,predictions, 1)\n",
        "plt.plot(y_test, m*y_test + b)\n",
        "plt.xlabel(\"Actual Grade\")\n",
        "plt.ylabel(\"Predicted Grade\")"
      ]
    }
  ],
  "metadata": {
    "colab": {
      "collapsed_sections": [
        "QyXrXNE2Jp3z"
      ],
      "provenance": [],
      "toc_visible": true,
      "include_colab_link": true
    },
    "kernelspec": {
      "display_name": "Python 3",
      "name": "python3"
    },
    "language_info": {
      "name": "python"
    }
  },
  "nbformat": 4,
  "nbformat_minor": 0
}